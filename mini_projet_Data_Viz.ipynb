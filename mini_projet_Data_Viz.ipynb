{
  "nbformat": 4,
  "nbformat_minor": 0,
  "metadata": {
    "colab": {
      "provenance": [],
      "authorship_tag": "ABX9TyOB+Gb/LKVqFiy/Q6Lj7X34",
      "include_colab_link": true
    },
    "kernelspec": {
      "name": "python3",
      "display_name": "Python 3"
    },
    "language_info": {
      "name": "python"
    }
  },
  "cells": [
    {
      "cell_type": "markdown",
      "metadata": {
        "id": "view-in-github",
        "colab_type": "text"
      },
      "source": [
        "<a href=\"https://colab.research.google.com/github/martinienkorsaga/data_processing/blob/main/mini_projet_Data_Viz.ipynb\" target=\"_parent\"><img src=\"https://colab.research.google.com/assets/colab-badge.svg\" alt=\"Open In Colab\"/></a>"
      ]
    },
    {
      "cell_type": "code",
      "source": [
        "import requests\n"
      ],
      "metadata": {
        "id": "7vgppyF29B4o"
      },
      "execution_count": 4,
      "outputs": []
    },
    {
      "cell_type": "code",
      "source": [
        "import zipfile"
      ],
      "metadata": {
        "id": "bdE7E6hZ9LMa"
      },
      "execution_count": 5,
      "outputs": []
    },
    {
      "cell_type": "code",
      "source": [
        "import os"
      ],
      "metadata": {
        "id": "Stj7c2fx9Tlo"
      },
      "execution_count": 6,
      "outputs": []
    },
    {
      "cell_type": "code",
      "source": [
        "url = \"https://download.geonames.org/export/dump/BF.zip\""
      ],
      "metadata": {
        "id": "vCh8BY4h9YUE"
      },
      "execution_count": 7,
      "outputs": []
    },
    {
      "cell_type": "code",
      "source": [
        "file_name = \"BF.zip\""
      ],
      "metadata": {
        "id": "YWntjCKw9cda"
      },
      "execution_count": 8,
      "outputs": []
    },
    {
      "cell_type": "code",
      "source": [
        "response = requests.get(url)"
      ],
      "metadata": {
        "id": "2eU8uCx79f5B"
      },
      "execution_count": 9,
      "outputs": []
    },
    {
      "cell_type": "code",
      "source": [
        "with open(file_name, \"wb\") as file:    file.write(response.content)"
      ],
      "metadata": {
        "id": "xqo4fjla9pMB"
      },
      "execution_count": 10,
      "outputs": []
    },
    {
      "cell_type": "code",
      "source": [
        "with zipfile.ZipFile(file_name, \"r\") as zip_ref:    zip_ref.extractall(\"burkina_data\")"
      ],
      "metadata": {
        "id": "_Am_QZG4-Jiy"
      },
      "execution_count": 11,
      "outputs": []
    },
    {
      "cell_type": "code",
      "source": [
        "file_path = os.path.join(\"burkina_data\", \"BF.txt\")"
      ],
      "metadata": {
        "id": "Qa4shKu--PJP"
      },
      "execution_count": 12,
      "outputs": []
    },
    {
      "cell_type": "code",
      "source": [
        "columns = [\"ID\", \"location_name\", \"latitude\", \"longitude\"]\n"
      ],
      "metadata": {
        "id": "VwFjrVHj-TzP"
      },
      "execution_count": 16,
      "outputs": []
    },
    {
      "cell_type": "code",
      "source": [
        "df = pd.read_csv(file_path, sep=\"\\t\", header=None, names=columns, usecols=[0, 1, 4, 5])\n"
      ],
      "metadata": {
        "id": "vswGP4Eo_Pi_"
      },
      "execution_count": 17,
      "outputs": []
    },
    {
      "cell_type": "code",
      "source": [
        "df.columns = ['ID', 'location_name', 'lat', 'long']"
      ],
      "metadata": {
        "id": "4Un4ZYYT_VMV"
      },
      "execution_count": 18,
      "outputs": []
    },
    {
      "cell_type": "code",
      "source": [
        "output_file = \"burkina_location.csv\"\n"
      ],
      "metadata": {
        "id": "kUYx5e23_Y6q"
      },
      "execution_count": 19,
      "outputs": []
    },
    {
      "cell_type": "code",
      "source": [
        "df.to_csv(output_file, index=False)"
      ],
      "metadata": {
        "id": "1cTlX8fM_eoc"
      },
      "execution_count": 20,
      "outputs": []
    },
    {
      "cell_type": "code",
      "source": [
        "df = pd.read_csv(output_file)"
      ],
      "metadata": {
        "id": "_68sRmdc_lTc"
      },
      "execution_count": 21,
      "outputs": []
    },
    {
      "cell_type": "code",
      "source": [
        "gounghin_df = df[df['location_name'].str.contains('gounghin', case=False)]"
      ],
      "metadata": {
        "id": "uWOK_Kd3_pDU"
      },
      "execution_count": 22,
      "outputs": []
    },
    {
      "cell_type": "code",
      "source": [
        "gounghin_file = \"gounghin.csv\""
      ],
      "metadata": {
        "id": "to6NRwI8_sX2"
      },
      "execution_count": 23,
      "outputs": []
    },
    {
      "cell_type": "code",
      "source": [
        "gounghin_df.to_csv(gounghin_file, index=False)"
      ],
      "metadata": {
        "id": "oEnemyTv_v-M"
      },
      "execution_count": 24,
      "outputs": []
    },
    {
      "cell_type": "code",
      "source": [
        "A_to_P_df = df[df['location_name'].str[0].str.upper().between('A', 'P')]"
      ],
      "metadata": {
        "id": "hj-V59zG_zjs"
      },
      "execution_count": 25,
      "outputs": []
    },
    {
      "cell_type": "code",
      "source": [
        "A_to_P_file = \"A_to_P.csv\""
      ],
      "metadata": {
        "id": "O3cAEOl1_2-v"
      },
      "execution_count": 26,
      "outputs": []
    },
    {
      "cell_type": "code",
      "source": [
        "A_to_P_df.to_csv(A_to_P_file, index=False)"
      ],
      "metadata": {
        "id": "S2kqNYVE_69o"
      },
      "execution_count": 27,
      "outputs": []
    },
    {
      "cell_type": "code",
      "source": [],
      "metadata": {
        "id": "ebTAYimZ__jY"
      },
      "execution_count": null,
      "outputs": []
    },
    {
      "cell_type": "code",
      "source": [
        "min_lat = A_to_P_df['lat'].min()"
      ],
      "metadata": {
        "id": "R7KYZOjt__ul"
      },
      "execution_count": 28,
      "outputs": []
    },
    {
      "cell_type": "code",
      "source": [
        "min_lon = A_to_P_df['long'].min()"
      ],
      "metadata": {
        "id": "RUn4A3-wADHc"
      },
      "execution_count": 29,
      "outputs": []
    },
    {
      "cell_type": "code",
      "source": [
        "location_names = A_to_P_df[(A_to_P_df['lat'] == min_lat) & (A_to_P_df['long'] == min_lon)]['location_name']\n"
      ],
      "metadata": {
        "id": "otBLe3prAF-h"
      },
      "execution_count": 30,
      "outputs": []
    },
    {
      "cell_type": "code",
      "source": [
        "print(\"Latitude minimale:\", min_lat)"
      ],
      "metadata": {
        "colab": {
          "base_uri": "https://localhost:8080/"
        },
        "id": "eDZp3zCCAKdz",
        "outputId": "b11da38b-c922-4ebc-d148-7d4d8e1f8c87"
      },
      "execution_count": 31,
      "outputs": [
        {
          "output_type": "stream",
          "name": "stdout",
          "text": [
            "Latitude minimale: 5.21609\n"
          ]
        }
      ]
    },
    {
      "cell_type": "code",
      "source": [
        "print(\"Longitude minimale:\", min_lon)\n"
      ],
      "metadata": {
        "colab": {
          "base_uri": "https://localhost:8080/"
        },
        "id": "qqJVe0YJANqL",
        "outputId": "3fed989e-814a-47c4-b2a4-5468fa1e4426"
      },
      "execution_count": 32,
      "outputs": [
        {
          "output_type": "stream",
          "name": "stdout",
          "text": [
            "Longitude minimale: -5.65968\n"
          ]
        }
      ]
    },
    {
      "cell_type": "code",
      "source": [
        "print(\"Noms de lieux correspondants:\")\n"
      ],
      "metadata": {
        "colab": {
          "base_uri": "https://localhost:8080/"
        },
        "id": "mz7OlS4aAQfE",
        "outputId": "29261610-f657-4875-ff04-a03af2dac820"
      },
      "execution_count": 33,
      "outputs": [
        {
          "output_type": "stream",
          "name": "stdout",
          "text": [
            "Noms de lieux correspondants:\n"
          ]
        }
      ]
    },
    {
      "cell_type": "code",
      "source": [
        "print(location_names)"
      ],
      "metadata": {
        "colab": {
          "base_uri": "https://localhost:8080/"
        },
        "id": "kUb-rV9VATta",
        "outputId": "95ec917b-0f21-4a2a-aa0f-323c999a7160"
      },
      "execution_count": 34,
      "outputs": [
        {
          "output_type": "stream",
          "name": "stdout",
          "text": [
            "Series([], Name: location_name, dtype: object)\n"
          ]
        }
      ]
    },
    {
      "cell_type": "code",
      "source": [
        "print(\"Noms de lieux correspondants:\")\n",
        "print(location_names)"
      ],
      "metadata": {
        "colab": {
          "base_uri": "https://localhost:8080/"
        },
        "id": "eduM9E6gAVmu",
        "outputId": "32ad1bd8-f1f7-4d7a-9b49-a2e51d5c1601"
      },
      "execution_count": 35,
      "outputs": [
        {
          "output_type": "stream",
          "name": "stdout",
          "text": [
            "Noms de lieux correspondants:\n",
            "Series([], Name: location_name, dtype: object)\n"
          ]
        }
      ]
    },
    {
      "cell_type": "code",
      "source": [
        "print(\"Latitude minimale:\", min_lat)\n",
        "print(\"Longitude minimale:\", min_lon)\n",
        "print(\"Noms de lieux correspondants:\",location_names)\n"
      ],
      "metadata": {
        "colab": {
          "base_uri": "https://localhost:8080/"
        },
        "id": "C4qmGzgbAbOn",
        "outputId": "f1ef2f5e-61ea-4eeb-bfff-2ddcad9c7a94"
      },
      "execution_count": 37,
      "outputs": [
        {
          "output_type": "stream",
          "name": "stdout",
          "text": [
            "Latitude minimale: 5.21609\n",
            "Longitude minimale: -5.65968\n",
            "Noms de lieux correspondants: Series([], Name: location_name, dtype: object)\n",
            "Series([], Name: location_name, dtype: object)\n"
          ]
        }
      ]
    },
    {
      "cell_type": "code",
      "source": [
        "filtered_df = df[(df['lat'] >= 11) & (df['long'] <= 0.5)]"
      ],
      "metadata": {
        "id": "f4dUM3muAsem"
      },
      "execution_count": 38,
      "outputs": []
    },
    {
      "cell_type": "code",
      "source": [
        "print(filtered_df)"
      ],
      "metadata": {
        "colab": {
          "base_uri": "https://localhost:8080/"
        },
        "id": "GdsqVtuZAwKR",
        "outputId": "aa5aca12-2802-4f2f-d4d8-7efcf248e045"
      },
      "execution_count": 39,
      "outputs": [
        {
          "output_type": "stream",
          "name": "stdout",
          "text": [
            "             ID    location_name       lat     long\n",
            "5       2353158         Zyonguen  12.36667 -0.45000\n",
            "6       2353159        Zyiliwèlè  12.38333 -2.73333\n",
            "7       2353160           Zyanko  12.78333 -0.41667\n",
            "8       2353161            Zouta  13.14908 -1.28197\n",
            "9       2353162        Zourtenga  12.95741 -1.28745\n",
            "...         ...              ...       ...      ...\n",
            "11706  12687046         Monde-So  14.20081 -1.63983\n",
            "11707  12688694          Yerfing  11.33747 -3.35025\n",
            "11709  12688713  Tinonguen-Peulh  11.64924 -0.22063\n",
            "11711  12720016            Yimdi  12.31014 -1.66322\n",
            "11712  12746364           Dabogo  11.49058  0.12698\n",
            "\n",
            "[9282 rows x 4 columns]\n"
          ]
        }
      ]
    },
    {
      "cell_type": "code",
      "source": [
        "excel_file = \"mini_projet.xlsx\""
      ],
      "metadata": {
        "id": "JGIYehYYA2ma"
      },
      "execution_count": 40,
      "outputs": []
    },
    {
      "cell_type": "code",
      "source": [
        "writer = pd.ExcelWriter(excel_file, engine='xlsxwriter')"
      ],
      "metadata": {
        "colab": {
          "base_uri": "https://localhost:8080/",
          "height": 453
        },
        "id": "fxKRc-MOA55d",
        "outputId": "e1b7e7eb-6c27-4e23-ee05-1b6413198997"
      },
      "execution_count": 41,
      "outputs": [
        {
          "output_type": "error",
          "ename": "ModuleNotFoundError",
          "evalue": "No module named 'xlsxwriter'",
          "traceback": [
            "\u001b[0;31m---------------------------------------------------------------------------\u001b[0m",
            "\u001b[0;31mModuleNotFoundError\u001b[0m                       Traceback (most recent call last)",
            "\u001b[0;32m<ipython-input-41-7ea8b2614e73>\u001b[0m in \u001b[0;36m<cell line: 1>\u001b[0;34m()\u001b[0m\n\u001b[0;32m----> 1\u001b[0;31m \u001b[0mwriter\u001b[0m \u001b[0;34m=\u001b[0m \u001b[0mpd\u001b[0m\u001b[0;34m.\u001b[0m\u001b[0mExcelWriter\u001b[0m\u001b[0;34m(\u001b[0m\u001b[0mexcel_file\u001b[0m\u001b[0;34m,\u001b[0m \u001b[0mengine\u001b[0m\u001b[0;34m=\u001b[0m\u001b[0;34m'xlsxwriter'\u001b[0m\u001b[0;34m)\u001b[0m\u001b[0;34m\u001b[0m\u001b[0;34m\u001b[0m\u001b[0m\n\u001b[0m",
            "\u001b[0;32m/usr/local/lib/python3.10/dist-packages/pandas/io/excel/_xlsxwriter.py\u001b[0m in \u001b[0;36m__init__\u001b[0;34m(self, path, engine, date_format, datetime_format, mode, storage_options, if_sheet_exists, engine_kwargs, **kwargs)\u001b[0m\n\u001b[1;32m    196\u001b[0m     ) -> None:\n\u001b[1;32m    197\u001b[0m         \u001b[0;31m# Use the xlsxwriter module as the Excel writer.\u001b[0m\u001b[0;34m\u001b[0m\u001b[0;34m\u001b[0m\u001b[0m\n\u001b[0;32m--> 198\u001b[0;31m         \u001b[0;32mfrom\u001b[0m \u001b[0mxlsxwriter\u001b[0m \u001b[0;32mimport\u001b[0m \u001b[0mWorkbook\u001b[0m\u001b[0;34m\u001b[0m\u001b[0;34m\u001b[0m\u001b[0m\n\u001b[0m\u001b[1;32m    199\u001b[0m \u001b[0;34m\u001b[0m\u001b[0m\n\u001b[1;32m    200\u001b[0m         \u001b[0mengine_kwargs\u001b[0m \u001b[0;34m=\u001b[0m \u001b[0mcombine_kwargs\u001b[0m\u001b[0;34m(\u001b[0m\u001b[0mengine_kwargs\u001b[0m\u001b[0;34m,\u001b[0m \u001b[0mkwargs\u001b[0m\u001b[0;34m)\u001b[0m\u001b[0;34m\u001b[0m\u001b[0;34m\u001b[0m\u001b[0m\n",
            "\u001b[0;31mModuleNotFoundError\u001b[0m: No module named 'xlsxwriter'",
            "",
            "\u001b[0;31m---------------------------------------------------------------------------\u001b[0;32m\nNOTE: If your import is failing due to a missing package, you can\nmanually install dependencies using either !pip or !apt.\n\nTo view examples of installing some common dependencies, click the\n\"Open Examples\" button below.\n\u001b[0;31m---------------------------------------------------------------------------\u001b[0m\n"
          ],
          "errorDetails": {
            "actions": [
              {
                "action": "open_url",
                "actionText": "Open Examples",
                "url": "/notebooks/snippets/importing_libraries.ipynb"
              }
            ]
          }
        }
      ]
    },
    {
      "cell_type": "code",
      "source": [],
      "metadata": {
        "id": "02psf0gFB9_j"
      },
      "execution_count": null,
      "outputs": []
    },
    {
      "cell_type": "code",
      "source": [
        "!pip install xlsxwriter\n"
      ],
      "metadata": {
        "colab": {
          "base_uri": "https://localhost:8080/"
        },
        "id": "L5UNXUSrB5bB",
        "outputId": "54d97410-7c95-43c9-f65e-57e9de555ceb"
      },
      "execution_count": 42,
      "outputs": [
        {
          "output_type": "stream",
          "name": "stdout",
          "text": [
            "Collecting xlsxwriter\n",
            "  Downloading XlsxWriter-3.2.0-py3-none-any.whl (159 kB)\n",
            "\u001b[?25l     \u001b[90m━━━━━━━━━━━━━━━━━━━━━━━━━━━━━━━━━━━━━━━━\u001b[0m \u001b[32m0.0/159.9 kB\u001b[0m \u001b[31m?\u001b[0m eta \u001b[36m-:--:--\u001b[0m\r\u001b[2K     \u001b[91m━━━━━━━━━━━━━━━━━━━━━━━━━━━━━━━━━━━━━━\u001b[0m\u001b[90m╺\u001b[0m\u001b[90m━\u001b[0m \u001b[32m153.6/159.9 kB\u001b[0m \u001b[31m5.7 MB/s\u001b[0m eta \u001b[36m0:00:01\u001b[0m\r\u001b[2K     \u001b[90m━━━━━━━━━━━━━━━━━━━━━━━━━━━━━━━━━━━━━━━━\u001b[0m \u001b[32m159.9/159.9 kB\u001b[0m \u001b[31m4.1 MB/s\u001b[0m eta \u001b[36m0:00:00\u001b[0m\n",
            "\u001b[?25hInstalling collected packages: xlsxwriter\n",
            "Successfully installed xlsxwriter-3.2.0\n"
          ]
        }
      ]
    },
    {
      "cell_type": "code",
      "source": [
        "writer = pd.ExcelWriter(excel_file, engine='xlsxwriter')\n"
      ],
      "metadata": {
        "id": "kCkDtXAYB_TV"
      },
      "execution_count": 43,
      "outputs": []
    },
    {
      "cell_type": "code",
      "source": [
        "writer = pd.ExcelWriter(excel_file, engine='xlsxwriter')\n"
      ],
      "metadata": {
        "id": "8nVrdLwECEug"
      },
      "execution_count": 44,
      "outputs": []
    },
    {
      "cell_type": "code",
      "source": [
        "gounghin_df.to_excel(writer, sheet_name='gounghin', index=False)"
      ],
      "metadata": {
        "id": "NcepbLoxCHde"
      },
      "execution_count": 45,
      "outputs": []
    },
    {
      "cell_type": "code",
      "source": [
        "A_to_P_df.to_excel(writer, sheet_name='A_to_P', index=False)"
      ],
      "metadata": {
        "id": "Bz0AqrR3CKjL"
      },
      "execution_count": 46,
      "outputs": []
    },
    {
      "cell_type": "code",
      "source": [
        "writer.save()"
      ],
      "metadata": {
        "colab": {
          "base_uri": "https://localhost:8080/"
        },
        "id": "85u0AS2sCNIe",
        "outputId": "5abf250c-6916-47e5-9c9f-380cd7cc2c84"
      },
      "execution_count": 47,
      "outputs": [
        {
          "output_type": "stream",
          "name": "stderr",
          "text": [
            "<ipython-input-47-16d93d5523a4>:1: FutureWarning: save is not part of the public API, usage can give unexpected results and will be removed in a future version\n",
            "  writer.save()\n"
          ]
        }
      ]
    }
  ]
}